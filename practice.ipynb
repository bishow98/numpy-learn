{
 "cells": [
  {
   "cell_type": "markdown",
   "metadata": {},
   "source": [
    "### Numpy practice "
   ]
  },
  {
   "cell_type": "code",
   "execution_count": 1,
   "metadata": {},
   "outputs": [],
   "source": [
    "import numpy as np"
   ]
  },
  {
   "cell_type": "code",
   "execution_count": 7,
   "metadata": {},
   "outputs": [
    {
     "name": "stdout",
     "output_type": "stream",
     "text": [
      "[1 2 3 4]\n",
      "(4,)\n",
      "[[1 2 3 4]\n",
      " [5 6 7 8]]\n",
      "Shape of array:  (2, 4)\n",
      "size of an array:  8\n",
      "datatype of array:  int64\n",
      "dimesion:  2\n",
      "True\n"
     ]
    }
   ],
   "source": [
    "array1 = np.array([1,2,3,4])\n",
    "print(array1)\n",
    "print(array1.shape)\n",
    "\n",
    "# This is two dimension array called matrix \n",
    "array2 = np.array([[1,2,3,4],[5,6,7,8]])\n",
    "print(array2)\n",
    "print(\"Shape of array: \",array2.shape)\n",
    "print(\"size of an array: \",array2.size)\n",
    "print(\"datatype of array: \",array2.dtype)\n",
    "print(\"dimesion: \",array2.ndim)\n",
    "print(len(array2.shape) == array2.ndim)"
   ]
  },
  {
   "cell_type": "markdown",
   "metadata": {},
   "source": [
    "#### creating the basic array "
   ]
  },
  {
   "cell_type": "code",
   "execution_count": 18,
   "metadata": {},
   "outputs": [
    {
     "name": "stdout",
     "output_type": "stream",
     "text": [
      "[[0. 0.]\n",
      " [0. 0.]\n",
      " [0. 0.]]\n",
      "[[1. 1. 1.]\n",
      " [1. 1. 1.]\n",
      " [1. 1. 1.]]\n",
      "[[ 2.5  5. ]\n",
      " [ 7.5 10. ]]\n",
      "[ 2  4  6  8 10]\n",
      "[ 0.   2.5  5.   7.5 10. ]\n"
     ]
    }
   ],
   "source": [
    "zeros = np.zeros((3,2))\n",
    "print(zeros)\n",
    "\n",
    "ones = np.ones((3,3))\n",
    "print(ones)\n",
    "\n",
    "empty = np.empty((2,2))\n",
    "print(empty)\n",
    "\n",
    "arange = np.arange(2,11,2)\n",
    "print(arange)\n",
    "\n",
    "#create an array with values that are spaced linearly in specified interva \n",
    "linespace = np.linspace(0,10, num=5)\n",
    "print(linespace)"
   ]
  },
  {
   "cell_type": "markdown",
   "metadata": {},
   "source": [
    "### Adding, removing, and sorting elements "
   ]
  },
  {
   "cell_type": "code",
   "execution_count": null,
   "metadata": {},
   "outputs": [
    {
     "name": "stdout",
     "output_type": "stream",
     "text": [
      "[ 1  4 12  2  0  9 11  7  5 13]\n",
      "[ 0  1  2  4  5  7  9 11 12 13]\n",
      "[ 1  2  3  4  5  6  7  8  9 10]\n",
      "[[ 1  2  3  4]\n",
      " [ 5  6  7  8]\n",
      " [ 8  9 10 11]]\n",
      "[ 0  2  4  6  8 10]\n",
      "\n",
      "\n",
      "[[ 0  2  4]\n",
      " [ 6  8 10]]\n",
      "[ 0  2  4  6  8 10]\n",
      "[[ 0  6]\n",
      " [ 2  8]\n",
      " [ 4 10]]\n"
     ]
    }
   ],
   "source": [
    "arr = np.array([1,4,12,2,0,9,11,7,5,13])\n",
    "sorted1D = np.sort(arr)\n",
    "print(arr)\n",
    "print(sorted1D)\n",
    "\n",
    "a = np.array([1,2,3,4,5])\n",
    "b = np.array([6,7,8,9,10])\n",
    "\n",
    "concatinate = np.concatenate((a,b))\n",
    "print(concatinate)\n",
    "\n",
    "x = np.array([[1,2,3,4],[5,6,7,8]])\n",
    "y = np.array([[8,9,10,11]])\n",
    "concat2D = np.concatenate((x,y), axis=0)\n",
    "print(concat2D)\n",
    "\n",
    "new_array = np.arange(0,11,2)\n",
    "print(new_array)\n",
    "\n",
    "print(\"\\n\")\n",
    "reshape = np.reshape(new_array, shape=(2,3), order='C')\n",
    "print(reshape)\n",
    "\n",
    "flattern = reshape.flatten()\n",
    "print(flattern)\n",
    "\n",
    "# transpose the matrix into row into column and column into row\n",
    "transpose = reshape.T\n",
    "print(transpose)\n"
   ]
  }
 ],
 "metadata": {
  "kernelspec": {
   "display_name": "venv",
   "language": "python",
   "name": "python3"
  },
  "language_info": {
   "codemirror_mode": {
    "name": "ipython",
    "version": 3
   },
   "file_extension": ".py",
   "mimetype": "text/x-python",
   "name": "python",
   "nbconvert_exporter": "python",
   "pygments_lexer": "ipython3",
   "version": "3.12.7"
  }
 },
 "nbformat": 4,
 "nbformat_minor": 2
}
