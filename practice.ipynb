{
 "cells": [
  {
   "cell_type": "markdown",
   "metadata": {},
   "source": [
    "### Numpy practice "
   ]
  },
  {
   "cell_type": "code",
   "execution_count": 1,
   "metadata": {},
   "outputs": [],
   "source": [
    "import numpy as np"
   ]
  },
  {
   "cell_type": "code",
   "execution_count": 3,
   "metadata": {},
   "outputs": [
    {
     "name": "stdout",
     "output_type": "stream",
     "text": [
      "[1 2 3 4]\n",
      "(4,)\n",
      "[[1 2 3 4]\n",
      " [5 6 7 8]]\n",
      "Shape of array:  (2, 4)\n",
      "size of an array:  8\n",
      "datatype of array:  int64\n",
      "dimesion:  2\n",
      "True\n"
     ]
    }
   ],
   "source": [
    "array1 = np.array([1,2,3,4])\n",
    "print(array1)\n",
    "print(array1.shape)\n",
    "\n",
    "# This is two dimension array called matrix \n",
    "array2 = np.array([[1,2,3,4],[5,6,7,8]])\n",
    "print(array2)\n",
    "print(\"Shape of array: \",array2.shape)\n",
    "print(\"size of an array: \",array2.size)\n",
    "print(\"datatype of array: \",array2.dtype)\n",
    "print(\"dimesion: \",array2.ndim)\n",
    "print(len(array2.shape) == array2.ndim)"
   ]
  },
  {
   "cell_type": "markdown",
   "metadata": {},
   "source": [
    "#### creating the basic array "
   ]
  },
  {
   "cell_type": "code",
   "execution_count": 4,
   "metadata": {},
   "outputs": [
    {
     "name": "stdout",
     "output_type": "stream",
     "text": [
      "[[0. 0.]\n",
      " [0. 0.]\n",
      " [0. 0.]]\n",
      "[[1. 1. 1.]\n",
      " [1. 1. 1.]\n",
      " [1. 1. 1.]]\n",
      "[[0.00000000e+000 9.38366282e-312]\n",
      " [9.38366283e-312 9.38366283e-312]]\n",
      "[ 2  4  6  8 10]\n",
      "[ 0.   2.5  5.   7.5 10. ]\n"
     ]
    }
   ],
   "source": [
    "zeros = np.zeros((3,2))\n",
    "print(zeros)\n",
    "\n",
    "ones = np.ones((3,3))\n",
    "print(ones)\n",
    "\n",
    "empty = np.empty((2,2))\n",
    "print(empty)\n",
    "\n",
    "arange = np.arange(2,11,2)\n",
    "print(arange)\n",
    "\n",
    "#create an array with values that are spaced linearly in specified interva \n",
    "linespace = np.linspace(0,10, num=5)\n",
    "print(linespace)"
   ]
  },
  {
   "cell_type": "markdown",
   "metadata": {},
   "source": [
    "### Adding, removing, and sorting elements "
   ]
  },
  {
   "cell_type": "code",
   "execution_count": 5,
   "metadata": {},
   "outputs": [
    {
     "name": "stdout",
     "output_type": "stream",
     "text": [
      "[ 1  4 12  2  0  9 11  7  5 13]\n",
      "[ 0  1  2  4  5  7  9 11 12 13]\n",
      "[ 1  2  3  4  5  6  7  8  9 10]\n",
      "[[ 1  2  3  4]\n",
      " [ 5  6  7  8]\n",
      " [ 8  9 10 11]]\n",
      "[ 0  2  4  6  8 10]\n",
      "\n",
      "\n",
      "[[ 0  2  4]\n",
      " [ 6  8 10]]\n",
      "[ 0  2  4  6  8 10]\n",
      "[[ 0  6]\n",
      " [ 2  8]\n",
      " [ 4 10]]\n"
     ]
    }
   ],
   "source": [
    "arr = np.array([1,4,12,2,0,9,11,7,5,13])\n",
    "sorted1D = np.sort(arr)\n",
    "print(arr)\n",
    "print(sorted1D)\n",
    "\n",
    "a = np.array([1,2,3,4,5])\n",
    "b = np.array([6,7,8,9,10])\n",
    "\n",
    "concatinate = np.concatenate((a,b))\n",
    "print(concatinate)\n",
    "\n",
    "x = np.array([[1,2,3,4],[5,6,7,8]])\n",
    "y = np.array([[8,9,10,11]])\n",
    "concat2D = np.concatenate((x,y), axis=0)\n",
    "print(concat2D)\n",
    "\n",
    "new_array = np.arange(0,11,2)\n",
    "print(new_array)\n",
    "\n",
    "print(\"\\n\")\n",
    "reshape = np.reshape(new_array, shape=(2,3), order='C')\n",
    "print(reshape)\n",
    "\n",
    "flattern = reshape.flatten()\n",
    "print(flattern)\n",
    "\n",
    "# transpose the matrix into row into column and column into row\n",
    "transpose = reshape.T\n",
    "print(transpose)\n"
   ]
  },
  {
   "cell_type": "code",
   "execution_count": 7,
   "metadata": {},
   "outputs": [
    {
     "name": "stdout",
     "output_type": "stream",
     "text": [
      "[1 2 3 4]\n",
      "[5 6 7 8]\n",
      "1\n",
      "2\n",
      "3\n",
      "4\n",
      "5\n",
      "6\n",
      "7\n",
      "8\n"
     ]
    }
   ],
   "source": [
    "array_2d = np.array([[1,2,3,4],[5,6,7,8]])\n",
    "for x in array_2d:\n",
    "    print(x)\n",
    "\n",
    "for x in array_2d:\n",
    "    for y in x:\n",
    "        print(y)\n",
    "        "
   ]
  },
  {
   "cell_type": "markdown",
   "metadata": {},
   "source": [
    "### Iterating 3-D arrays "
   ]
  },
  {
   "cell_type": "code",
   "execution_count": 9,
   "metadata": {},
   "outputs": [
    {
     "name": "stdout",
     "output_type": "stream",
     "text": [
      "[[1 2 3 4]\n",
      " [4 5 6 7]]\n",
      "[[ 7  8  9 10]\n",
      " [10 11 12 13]]\n"
     ]
    }
   ],
   "source": [
    "array_3d = np.array([[[1,2,3,4],[4,5,6,7]],[[7,8,9,10],[10,11,12,13]]])\n",
    "for x in array_3d:\n",
    "    print(x)"
   ]
  },
  {
   "cell_type": "code",
   "execution_count": null,
   "metadata": {},
   "outputs": [
    {
     "name": "stdout",
     "output_type": "stream",
     "text": [
      "1\n",
      "2\n",
      "3\n",
      "4\n",
      "5\n",
      "6\n",
      "7\n",
      "8\n"
     ]
    }
   ],
   "source": [
    "another_3d_array = np.array([[[1,2],[3,4]],[[5,6],[7,8]]])\n",
    "for x in np.nditer(another_3d_array):# for loop chai normal ko lagi better hunxa but as dimension badhdai janxa it gets complex so use the np.nditer() function instead\n",
    "    print(x)"
   ]
  },
  {
   "cell_type": "markdown",
   "metadata": {},
   "source": [
    "### Iterating Array with Different Data types\n"
   ]
  },
  {
   "cell_type": "code",
   "execution_count": 11,
   "metadata": {},
   "outputs": [
    {
     "name": "stdout",
     "output_type": "stream",
     "text": [
      "np.bytes_(b'1')\n",
      "np.bytes_(b'2')\n",
      "np.bytes_(b'3')\n",
      "np.bytes_(b'4')\n"
     ]
    }
   ],
   "source": [
    "array = np.array([1,2,3,4])\n",
    "for x in np.nditer(array,flags=['buffered'], op_dtypes=['S']):\n",
    "    print(x)"
   ]
  },
  {
   "cell_type": "code",
   "execution_count": null,
   "metadata": {},
   "outputs": [
    {
     "name": "stdout",
     "output_type": "stream",
     "text": [
      "1\n",
      "3\n",
      "5\n",
      "7\n"
     ]
    }
   ],
   "source": [
    "arr = np.array([[1, 2, 3, 4], [5, 6, 7, 8]])\n",
    "\n",
    "for x in np.nditer(arr[:, ::2]): # [:, ::2] : all rows, :: starting column with default and 2 is skip part \n",
    "  print(x)"
   ]
  },
  {
   "cell_type": "markdown",
   "metadata": {},
   "source": [
    "### Enumerated Iteration Using ndenumerate()"
   ]
  },
  {
   "cell_type": "code",
   "execution_count": 13,
   "metadata": {},
   "outputs": [
    {
     "name": "stdout",
     "output_type": "stream",
     "text": [
      "index: (0,), value: 1\n",
      "index: (1,), value: 2\n",
      "index: (2,), value: 3\n",
      "index: (3,), value: 4\n"
     ]
    }
   ],
   "source": [
    "arra = np.array([1,2,3,4])\n",
    "for idx, x in np.ndenumerate(arra):\n",
    "    print(f\"index: {idx}, value: {x}\")"
   ]
  },
  {
   "cell_type": "code",
   "execution_count": 14,
   "metadata": {},
   "outputs": [
    {
     "name": "stdout",
     "output_type": "stream",
     "text": [
      "index: (0, 0), value: 1\n",
      "index: (0, 1), value: 2\n",
      "index: (0, 2), value: 3\n",
      "index: (1, 0), value: 4\n",
      "index: (1, 1), value: 5\n",
      "index: (1, 2), value: 6\n"
     ]
    }
   ],
   "source": [
    "ar = np.array([[1,2,3],[4,5,6]])\n",
    "for idx, x in np.ndenumerate(ar):\n",
    "    print(f\"index: {idx}, value: {x}\")"
   ]
  },
  {
   "cell_type": "markdown",
   "metadata": {},
   "source": [
    "### Joining in NumPy Array"
   ]
  },
  {
   "cell_type": "code",
   "execution_count": 15,
   "metadata": {},
   "outputs": [
    {
     "name": "stdout",
     "output_type": "stream",
     "text": [
      "[1 2 3 4 5 6 7 8]\n"
     ]
    }
   ],
   "source": [
    "arr1 = np.array([1,2,3,4])\n",
    "arr2 = np.array([5,6,7,8])\n",
    "final = np.concatenate((arr1,arr2))\n",
    "print(final)"
   ]
  },
  {
   "cell_type": "markdown",
   "metadata": {},
   "source": [
    "### Joining 2D array \n",
    "\n",
    "\n"
   ]
  },
  {
   "cell_type": "code",
   "execution_count": null,
   "metadata": {},
   "outputs": [
    {
     "name": "stdout",
     "output_type": "stream",
     "text": [
      "[[1 2]\n",
      " [3 4]\n",
      " [5 6]\n",
      " [7 8]]\n"
     ]
    }
   ],
   "source": [
    "arr_1 = np.array([[1,2],[3,4]])\n",
    "\n",
    "arr_2 = np.array([[5,6],[7,8]])\n",
    "\n",
    "final_2d = np.concatenate((arr_1, arr_2), axis=0) # 0 => column , 1 => row wise\n",
    "\n",
    "print(final_2d)"
   ]
  },
  {
   "cell_type": "markdown",
   "metadata": {},
   "source": [
    "### Joining array using stack"
   ]
  },
  {
   "cell_type": "code",
   "execution_count": 25,
   "metadata": {},
   "outputs": [
    {
     "name": "stdout",
     "output_type": "stream",
     "text": [
      "[[1 2 3 4]\n",
      " [4 5 7 8]]\n",
      "hstack:  [1 2 3 4 4 5 7 8]\n",
      "vstack:  [[1 2 3 4]\n",
      " [4 5 7 8]]\n"
     ]
    }
   ],
   "source": [
    "arra_1= np.array([1,2,3,4])\n",
    "arra_2 = np.array([4,5,7,8])\n",
    "\n",
    "final_stack_array = np.stack((arra_1,arra_2), axis=0)\n",
    "\n",
    "print(final_stack_array)\n",
    "\n",
    "hstack = np.hstack((arra_1,arra_2))\n",
    "print(\"hstack: \", hstack)\n",
    "\n",
    "vstack = np.vstack((arra_1,arra_2))\n",
    "\n",
    "print(\"vstack: \", vstack)\n"
   ]
  },
  {
   "cell_type": "code",
   "execution_count": 13,
   "metadata": {},
   "outputs": [
    {
     "name": "stdout",
     "output_type": "stream",
     "text": [
      "[array([1, 2]), array([3, 4]), array([5, 6])]\n",
      "splitarray:  [array([1, 2]), array([3, 4]), array([5, 6])]\n",
      "[1 2]\n",
      "[3 4]\n",
      "[5 6]\n"
     ]
    }
   ],
   "source": [
    "arr__1 = np.array([1,2,3,4,5,6])\n",
    "\n",
    "newarray = np.array_split(arr__1, 3)\n",
    "\n",
    "print(newarray)\n",
    "\n",
    "splitarray = np.split(arr__1, 3)\n",
    "print(\"splitarray: \", splitarray) ## split huna ko lagi chai exactly array ko group hunu parney raixa \n",
    "\n",
    "print(newarray[0])\n",
    "print(newarray[1])\n",
    "print(newarray[2])"
   ]
  },
  {
   "cell_type": "code",
   "execution_count": 26,
   "metadata": {},
   "outputs": [
    {
     "name": "stdout",
     "output_type": "stream",
     "text": [
      "split_2d_result:\n",
      "  [array([[1, 2],\n",
      "       [3, 4]]), array([[5, 6],\n",
      "       [7, 8]]), array([[ 9, 10],\n",
      "       [11, 12]])]\n",
      "hsplit:\n",
      "  [array([[ 1],\n",
      "       [ 3],\n",
      "       [ 5],\n",
      "       [ 7],\n",
      "       [ 9],\n",
      "       [11]]), array([[ 2],\n",
      "       [ 4],\n",
      "       [ 6],\n",
      "       [ 8],\n",
      "       [10],\n",
      "       [12]])]\n"
     ]
    }
   ],
   "source": [
    "split_2d_array = np.array([[1,2],[3,4],[5,6],[7,8],[9,10],[11,12]])\n",
    "split_2d_result = np.array_split(split_2d_array,3, axis=0)\n",
    "print(\"split_2d_result:\\n \",split_2d_result)\n",
    "\n",
    "hsplit = np.hsplit(split_2d_array,2)\n",
    "print(\"hsplit:\\n \",hsplit)\n"
   ]
  },
  {
   "cell_type": "code",
   "execution_count": 23,
   "metadata": {},
   "outputs": [
    {
     "name": "stdout",
     "output_type": "stream",
     "text": [
      "[array([[ 1],\n",
      "       [ 4],\n",
      "       [ 7],\n",
      "       [10],\n",
      "       [13],\n",
      "       [16]]), array([[ 2],\n",
      "       [ 5],\n",
      "       [ 8],\n",
      "       [11],\n",
      "       [14],\n",
      "       [17]]), array([[ 3],\n",
      "       [ 6],\n",
      "       [ 9],\n",
      "       [12],\n",
      "       [15],\n",
      "       [18]])]\n"
     ]
    }
   ],
   "source": [
    "arr = np.array([[1, 2, 3], [4, 5, 6], [7, 8, 9], [10, 11, 12], [13, 14, 15], [16, 17, 18]])\n",
    "\n",
    "newarr = np.hsplit(arr, 3)\n",
    "\n",
    "print(newarr)"
   ]
  },
  {
   "cell_type": "markdown",
   "metadata": {},
   "source": [
    "## NumPy Searching Array"
   ]
  },
  {
   "cell_type": "code",
   "execution_count": 30,
   "metadata": {},
   "outputs": [
    {
     "name": "stdout",
     "output_type": "stream",
     "text": [
      "(array([7, 8]),)\n",
      "Index of an even array is :  (array([ 1,  3,  5,  7,  8,  9, 10, 11]),)\n"
     ]
    }
   ],
   "source": [
    "arr_final = np.array([1,2,3,4,5,6,7,8,8,4,4,2])\n",
    "x = np.where(arr_final == 8) # returns indices of 8\n",
    "\n",
    "print(x)\n",
    "\n",
    "even = np.where(arr_final%2 == 0) # index nai find gariraxa yesle where the value of array is even\n",
    "print(\"Index of an even array is : \",even)"
   ]
  },
  {
   "cell_type": "code",
   "execution_count": 35,
   "metadata": {},
   "outputs": [
    {
     "name": "stdout",
     "output_type": "stream",
     "text": [
      "2\n",
      "2\n",
      "[1 2 3]\n"
     ]
    }
   ],
   "source": [
    "# search sorted : \n",
    "sortedarray = np.array([6,7,8,9])\n",
    "sort = np.searchsorted(sortedarray, 8) # sorted array ma 8 ko index chai kaha parxa vanera khojxa yesle chai \n",
    "\n",
    "print(sort)\n",
    "\n",
    "sortfromright = np.searchsorted(sortedarray, 7, side='right')\n",
    "print(sortfromright)\n",
    "\n",
    "# search multiple values : \n",
    "sortedwithgap = np.array([1,3,5,7])\n",
    "multiplevalues = np.searchsorted(sortedwithgap, [2,4,6])\n",
    "print(multiplevalues)"
   ]
  },
  {
   "cell_type": "markdown",
   "metadata": {},
   "source": [
    "### Numpy Sorting array "
   ]
  },
  {
   "cell_type": "code",
   "execution_count": 41,
   "metadata": {},
   "outputs": [
    {
     "name": "stdout",
     "output_type": "stream",
     "text": [
      "[1 3 6 8 9]\n",
      "['apple' 'banana' 'cherry']\n",
      "Sorted 2d array:  [[3 0 1]\n",
      " [5 2 4]]\n",
      "Sorted 2d array:  [[2 3 4]\n",
      " [0 1 5]]\n"
     ]
    }
   ],
   "source": [
    "arraytosort = np.array([3,1,9,6,8])\n",
    "sortedarrayvalue = np.sort(arraytosort, axis=0) # since it is vector the row sorted with axis=1 is not available \n",
    "\n",
    "print(sortedarrayvalue)\n",
    "\n",
    "stringarray = np.array(['banana','cherry','apple'])\n",
    "sortedstringarray = np.sort(stringarray,)\n",
    "print(sortedstringarray)\n",
    "\n",
    "#sorting 2d array \n",
    "unsorted2d = np.array([[3,2,4],[5,0,1]])\n",
    "print(\"Sorted 2d array: \", np.sort(unsorted2d, axis=0)) # column wise sorting \n",
    "print(\"Sorted 2d array: \", np.sort(unsorted2d, axis=1)) # row wise sorting "
   ]
  },
  {
   "cell_type": "code",
   "execution_count": 44,
   "metadata": {},
   "outputs": [
    {
     "name": "stdout",
     "output_type": "stream",
     "text": [
      "New filtered array:  [44 45 46 47]\n",
      "[False, False, False, True, True, True, True]\n",
      "New filtered array (direct):  [43 44 45 46 47]\n",
      "[False False  True  True  True  True  True]\n"
     ]
    }
   ],
   "source": [
    "arr = np.array([41,42,43,44,45,46,47])\n",
    "\n",
    "#create an empty list \n",
    "filter_arr = []\n",
    "\n",
    "for element in arr:\n",
    "    if element > 43:\n",
    "        filter_arr.append(True)\n",
    "    else:\n",
    "        filter_arr.append(False)\n",
    "\n",
    "newfiltered = arr[filter_arr]\n",
    "print(\"New filtered array: \", newfiltered)\n",
    "print(filter_arr)\n",
    "\n",
    "\n",
    "# creating filter diretly from array \n",
    "\n",
    "filter_arr_direct = arr> 42\n",
    "\n",
    "newfiltered_direct = arr[filter_arr_direct]\n",
    "\n",
    "print(\"New filtered array (direct): \", newfiltered_direct)\n",
    "\n",
    "print(filter_arr_direct)"
   ]
  }
 ],
 "metadata": {
  "kernelspec": {
   "display_name": "venv",
   "language": "python",
   "name": "python3"
  },
  "language_info": {
   "codemirror_mode": {
    "name": "ipython",
    "version": 3
   },
   "file_extension": ".py",
   "mimetype": "text/x-python",
   "name": "python",
   "nbconvert_exporter": "python",
   "pygments_lexer": "ipython3",
   "version": "3.12.7"
  }
 },
 "nbformat": 4,
 "nbformat_minor": 2
}
