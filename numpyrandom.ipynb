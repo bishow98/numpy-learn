{
 "cells": [
  {
   "cell_type": "markdown",
   "metadata": {},
   "source": [
    "## Numpy Random"
   ]
  },
  {
   "cell_type": "code",
   "execution_count": null,
   "metadata": {},
   "outputs": [
    {
     "name": "stdout",
     "output_type": "stream",
     "text": [
      "39\n",
      "0.6855897559460282\n"
     ]
    }
   ],
   "source": [
    "from numpy import random\n",
    "\n",
    "x = random.randint(100) # this generate random integer from 0 - 100\n",
    "print(x)\n",
    "\n",
    "rand_Float = random.rand()\n",
    "print(rand_Float)"
   ]
  },
  {
   "cell_type": "markdown",
   "metadata": {},
   "source": [
    "### Generate random array "
   ]
  },
  {
   "cell_type": "code",
   "execution_count": 13,
   "metadata": {},
   "outputs": [
    {
     "name": "stdout",
     "output_type": "stream",
     "text": [
      "[34 15 65 34 43 66]\n"
     ]
    }
   ],
   "source": [
    "randomarray = random.randint(100, size=(6))\n",
    "print(randomarray)"
   ]
  },
  {
   "cell_type": "code",
   "execution_count": 15,
   "metadata": {},
   "outputs": [
    {
     "name": "stdout",
     "output_type": "stream",
     "text": [
      "[[98 50 32  6]\n",
      " [53 34 97 31]]\n"
     ]
    }
   ],
   "source": [
    "# generate a 2D random array \n",
    "random_2d = random.randint(100,size=(2,4))\n",
    "print(random_2d)  # size=(2row, 4column)"
   ]
  },
  {
   "cell_type": "markdown",
   "metadata": {},
   "source": [
    "### Generate random Number from array "
   ]
  },
  {
   "cell_type": "code",
   "execution_count": 8,
   "metadata": {},
   "outputs": [
    {
     "name": "stdout",
     "output_type": "stream",
     "text": [
      "2\n"
     ]
    }
   ],
   "source": [
    "import numpy as np\n",
    "\n",
    "array = np.array([1,2,3,4,5])\n",
    "random_from_array = random.choice(array)\n",
    "print(random_from_array)\n"
   ]
  },
  {
   "cell_type": "code",
   "execution_count": null,
   "metadata": {},
   "outputs": [
    {
     "name": "stdout",
     "output_type": "stream",
     "text": [
      "[[4 7 6 4 6]\n",
      " [4 6 7 5 7]\n",
      " [4 5 7 7 5]]\n"
     ]
    }
   ],
   "source": [
    "random_2d_choice = random.choice([4,5,6,7], size=(3,5)) # yo [4,5,6,7] array bata 3ta row ani 4 ta column vako matrix banaidinxa \n",
    "\n",
    "print(random_2d_choice)"
   ]
  },
  {
   "cell_type": "markdown",
   "metadata": {},
   "source": [
    "## Data Distribution "
   ]
  },
  {
   "cell_type": "code",
   "execution_count": 17,
   "metadata": {},
   "outputs": [
    {
     "name": "stdout",
     "output_type": "stream",
     "text": [
      "[7 7 7 7 7 7 7 7 7 7 7 5 5 7 7 7 5 7 5 7 5 7 7 7 7 3 3 7 5 3 5 5 7 7 5 7 7\n",
      " 7 3 5 7 7 5 5 7 7 3 5 7 3 7 7 5 5 7 7 5 7 7 5 7 7 7 7 5 7 5 7 5 5 7 5 5 5\n",
      " 5 5 7 7 7 7 3 7 5 5 5 5 5 7 7 7 7 7 5 3 7 5 7 7 7 5]\n",
      "[[3 7 7 5]\n",
      " [7 5 7 7]\n",
      " [7 5 7 7]]\n"
     ]
    }
   ],
   "source": [
    "randomdatadistribution = random.choice([3,5,7,9],p=[0.1,0.3,0.6,0.0], size=(100))\n",
    "print(randomdatadistribution)\n",
    "\n",
    "randomdata_2d = random.choice([3,5,7,9],p=[0.1,0.3,0.6,0.0], size=(3,4))\n",
    "\n",
    "print(randomdata_2d)"
   ]
  },
  {
   "cell_type": "markdown",
   "metadata": {},
   "source": [
    "### Random permutation of elements "
   ]
  },
  {
   "cell_type": "code",
   "execution_count": null,
   "metadata": {},
   "outputs": [
    {
     "name": "stdout",
     "output_type": "stream",
     "text": [
      "[2 3 1 5 4]\n"
     ]
    }
   ],
   "source": [
    "arr = np.array([1,2,3,4,5])\n",
    "random.shuffle(arr) # shuffle means changing arrangements of elements \n",
    "print(arr)"
   ]
  },
  {
   "cell_type": "code",
   "execution_count": 29,
   "metadata": {},
   "outputs": [
    {
     "name": "stdout",
     "output_type": "stream",
     "text": [
      "[3 5 2 4 1]\n",
      "[0 2 4 6 8]\n"
     ]
    }
   ],
   "source": [
    "# generating the permutation : \n",
    "arr1 = np.array([1,2,3,4,5])\n",
    "\n",
    "print(random.permutation(arr1)) # permutation method returns a rearrange and leaves the original array unchanged \n",
    "\n",
    "arr2 = np.arange(0,10,2)\n",
    "print(arr2)"
   ]
  }
 ],
 "metadata": {
  "kernelspec": {
   "display_name": "venv",
   "language": "python",
   "name": "python3"
  },
  "language_info": {
   "codemirror_mode": {
    "name": "ipython",
    "version": 3
   },
   "file_extension": ".py",
   "mimetype": "text/x-python",
   "name": "python",
   "nbconvert_exporter": "python",
   "pygments_lexer": "ipython3",
   "version": "3.12.7"
  }
 },
 "nbformat": 4,
 "nbformat_minor": 2
}
