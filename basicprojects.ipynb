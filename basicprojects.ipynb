{
 "cells": [
  {
   "cell_type": "markdown",
   "metadata": {},
   "source": [
    "## Basic project using the Numpy"
   ]
  },
  {
   "cell_type": "code",
   "execution_count": 1,
   "metadata": {},
   "outputs": [],
   "source": [
    "import numpy as np "
   ]
  },
  {
   "cell_type": "markdown",
   "metadata": {},
   "source": [
    "#### Matrix operations playground \n",
    "#### Implement basic matrix addition, subtraction, multiplication, and inversion using NumPy.\n",
    "#### Generate random matrices and perform operations."
   ]
  },
  {
   "cell_type": "code",
   "execution_count": 18,
   "metadata": {},
   "outputs": [
    {
     "name": "stdout",
     "output_type": "stream",
     "text": [
      "Matrix A: \n",
      " [[1 5 4]\n",
      " [1 4 5]\n",
      " [5 5 2]]\n",
      "Matrix B: \n",
      " [[5 3 2]\n",
      " [9 0 4]\n",
      " [4 9 1]]\n",
      "Addition of two matrices: \n",
      " [[ 6  8  6]\n",
      " [10  4  9]\n",
      " [ 9 14  3]]\n",
      "Subtraction of two matrices: \n",
      " [[-4  2  2]\n",
      " [-8  4  1]\n",
      " [ 1 -4  1]]\n",
      "Multiplication of two matrices: \n",
      " [[ 5 15  8]\n",
      " [ 9  0 20]\n",
      " [20 45  2]]\n",
      "Dot product of two matrices: \n",
      " [[66 39 26]\n",
      " [61 48 23]\n",
      " [78 33 32]]\n",
      "Transpose of Matrix A: \n",
      " [[1 1 5]\n",
      " [5 4 5]\n",
      " [4 5 2]]\n"
     ]
    }
   ],
   "source": [
    "# create matrices \n",
    "matrix_A = np.random.randint(0,10,(3,3))\n",
    "matrix_B = np.random.randint(0,10,(3,3))\n",
    "\n",
    "# output \n",
    "print(\"Matrix A: \\n\", matrix_A)\n",
    "print(\"Matrix B: \\n\", matrix_B)\n",
    "\n",
    "# addition of two matrices \n",
    "matrix_addition = matrix_A + matrix_B\n",
    "print(\"Addition of two matrices: \\n\", matrix_addition)\n",
    "\n",
    "# subtraction of two matrices\n",
    "matrix_subtraction = matrix_A - matrix_B\n",
    "print(\"Subtraction of two matrices: \\n\", matrix_subtraction)\n",
    "\n",
    "#multiplication of two matrices element wise \n",
    "matrix_mul_elementwise = matrix_A * matrix_B\n",
    "print(\"Multiplication of two matrices: \\n\", matrix_mul_elementwise)\n",
    "\n",
    "# multiplication of dot product\n",
    "matrix_dot_multi = np.dot(matrix_A, matrix_B)\n",
    "print(\"Dot product of two matrices: \\n\", matrix_dot_multi)\n",
    "\n",
    "# matrix transpose \n",
    "matrix_A_Transpose = matrix_A.T\n",
    "print(\"Transpose of Matrix A: \\n\", matrix_A_Transpose)\n",
    "\n"
   ]
  },
  {
   "cell_type": "code",
   "execution_count": 27,
   "metadata": {},
   "outputs": [
    {
     "name": "stdout",
     "output_type": "stream",
     "text": [
      "Determinant of Matrix A: \n",
      " -624.9999999999998\n",
      "Inverse of Matrix A: \n",
      " [[-0.0912  0.3248 -0.0432]\n",
      " [ 0.3536 -0.2944  0.0096]\n",
      " [-0.0672  0.0288  0.0208]]\n",
      "Inverse is correct! Identity Matrix Verified \n",
      "\n"
     ]
    }
   ],
   "source": [
    "# matrix inversion A.A^-1 = I . to be a inversion the determinant should not be 0 \n",
    "A = np.array([[4,5,6],[5,3,9],[6,12,55]])\n",
    "determinant_A = np.linalg.det(A)\n",
    "print(\"Determinant of Matrix A: \\n\", determinant_A)\n",
    "\n",
    "if determinant_A !=0:\n",
    "    inverse_A = np.linalg.inv(A)\n",
    "    print(\"Inverse of Matrix A: \\n\", inverse_A)\n",
    "\n",
    "    # check if the value provided is identity matrix or not \n",
    "    identity_check = np.dot(A,inverse_A)\n",
    "\n",
    "    # Use np.allclose() to verify identity matrix\n",
    "    if np.allclose(identity_check, np.eye(3)):  # np.eye(3) creates a 3x3 identity matrix\n",
    "        print(\"Inverse is correct! Identity Matrix Verified \\n\")\n",
    "    else:\n",
    "        print(\"Inverse calculation has floating-point errors \\n\", identity_check)\n",
    "else:\n",
    "    print(\"Matrix A does not have an inverse since its determinant is zero.\")\n"
   ]
  },
  {
   "cell_type": "markdown",
   "metadata": {},
   "source": [
    "## Statistics Calculator"
   ]
  },
  {
   "cell_type": "code",
   "execution_count": 30,
   "metadata": {},
   "outputs": [
    {
     "name": "stdout",
     "output_type": "stream",
     "text": [
      "Mean salaries:  91842.1052631579\n",
      "\n",
      " Median salaries:  90000.0\n",
      "\n",
      " Mode salaries:  45000\n",
      "\n",
      " Standard Deviation of salaries:  28282.900093044387\n",
      "\n",
      " Variance of salaries:  799922437.6731302\n",
      "\n",
      " Data Range of salaries:  105000\n",
      "\n",
      " First Quartile (Q1):  71000.0\n",
      "\n",
      " Third Quartile (Q3):  107500.0\n"
     ]
    }
   ],
   "source": [
    "#creating a function to calculate the statistics of the data form the real world data \n",
    "def statistics_method(data):\n",
    "    # mean\n",
    "    mean_salaries = np.mean(data)\n",
    "\n",
    "    # median\n",
    "    median_salaries = np.median(data)\n",
    "\n",
    "    #mode \n",
    "    values, counts = np.unique(data, return_counts=True)  # Get unique values and their frequencies\n",
    "    max_count_index = np.argmax(counts)  # Get index of the highest frequency\n",
    "    mode_salaries = values[max_count_index] \n",
    "    \n",
    "\n",
    "    # standard deviation \n",
    "    std_deviation_salaries = np.std(data)\n",
    "\n",
    "    # variance \n",
    "    variance_salaries = np.var(data)\n",
    "\n",
    "    #data range \n",
    "    data_range_salaries = np.max(data)- np.min(data)\n",
    "\n",
    "    # quartiles \n",
    "    q1 = np.percentile(data, 25)\n",
    "    q3 = np.percentile(data,75)\n",
    "\n",
    "    print(\"Mean salaries: \", mean_salaries)\n",
    "    print(\"\\n Median salaries: \", median_salaries)\n",
    "    print(\"\\n Mode salaries: \", mode_salaries)\n",
    "    print(\"\\n Standard Deviation of salaries: \", std_deviation_salaries)\n",
    "    print(\"\\n Variance of salaries: \", variance_salaries)\n",
    "    print(\"\\n Data Range of salaries: \", data_range_salaries)\n",
    "    print(\"\\n First Quartile (Q1): \", q1)\n",
    "    print(\"\\n Third Quartile (Q3): \", q3)\n",
    "\n",
    "salaries = np.array([45000, 55000, 60000, 65000, 70000, 72000, 75000, 80000, 85000, 90000, \n",
    "                     95000, 98000, 100000, 105000, 110000, 120000, 130000, 140000, 150000])\n",
    "\n",
    "salaries = np.array([45000, 55000, 60000, 65000, 70000, 72000, 75000, 80000, 85000, 90000, \n",
    "                     95000, 98000, 100000, 105000, 110000, 120000, 130000, 140000, 150000])\n",
    "\n",
    "statistics_method(salaries)"
   ]
  },
  {
   "cell_type": "markdown",
   "metadata": {},
   "source": [
    "## Dice Simulator using random "
   ]
  },
  {
   "cell_type": "code",
   "execution_count": 11,
   "metadata": {},
   "outputs": [
    {
     "name": "stdout",
     "output_type": "stream",
     "text": [
      "The dice rolled a number:  4\n",
      "\n",
      " The dice rolled multiple numbers:  [5 5 2 5 6 6 2 2 5 2 1 3 2 6 3 6 3 3 4 4]\n"
     ]
    },
    {
     "data": {
      "image/png": "[encoded data removed]",
      "text/plain": [
       "<Figure size 640x480 with 1 Axes>"
      ]
     },
     "metadata": {},
     "output_type": "display_data"
    }
   ],
   "source": [
    "import matplotlib.pyplot as plt\n",
    "def dice_simulation():\n",
    "    dice_value = np.random.randint(1,7)\n",
    "    return dice_value\n",
    "\n",
    "print(\"The dice rolled a number: \", dice_simulation())\n",
    "\n",
    "# Allowing multiple rolls \n",
    "def dice_simulation_multiple_rolls(n=1):\n",
    "    rolls = np.random.randint(1,7,size=n)\n",
    "    return rolls\n",
    "num_rolls = int(input(\"Enter the number of rolls you wish to play: \"))\n",
    "print(\"\\n The dice rolled multiple numbers: \", dice_simulation_multiple_rolls(num_rolls))\n",
    "\n",
    "#plotting the graph for the rolling dice \n",
    "def plot_roll_dice(rolls):\n",
    "    plt.hist(rolls, bins=np.arange(1, 8)-0.5, edgecolor='black', rwidth=0.8)\n",
    "    plt.xticks(range(1, 7))\n",
    "    plt.xlabel(\"Dice Face\")\n",
    "    plt.ylabel(\"Frequency\")\n",
    "    plt.title(\"Dice Roll Simulation\")\n",
    "    plt.show()\n",
    "\n",
    "plot_roll_dice(dice_simulation_multiple_rolls(num_rolls))\n",
    "\n"
   ]
  },
  {
   "cell_type": "markdown",
   "metadata": {},
   "source": [
    "#### Calulating the probability of the simulation "
   ]
  },
  {
   "cell_type": "code",
   "execution_count": 17,
   "metadata": {},
   "outputs": [
    {
     "name": "stdout",
     "output_type": "stream",
     "text": [
      "Rolled 10 times. Rolls: [1 3 3 6 1 4 3 5 4 3]\n",
      "Probability of rolling a 5: 0.1\n"
     ]
    }
   ],
   "source": [
    "def rolls_simulation(n):\n",
    "    \"\"\"Simulate a game of dice with the given number of rolls.\"\"\"\n",
    "    return np.random.randint(1,7,size=n)\n",
    "\n",
    "def probability_of_target(n,target):\n",
    "    \"\"\"Calculate the probability of rolling a target number in a game of dice with the given number of rolls.\"\"\"\n",
    "\n",
    "    rolls = rolls_simulation(n)\n",
    "    count_target = np.sum(rolls == target) # count the number of target occurance \n",
    "    probability_of_target = count_target / n\n",
    "    return probability_of_target,rolls\n",
    "\n",
    "\n",
    "\n",
    "num_rolls = int(input(\"Enter the number of roll you wish to simulate: \"))\n",
    "target_number = int(input(\"Enter the target number between (1-6)\"))\n",
    "\n",
    "if 1 <= target_number <= 6:\n",
    "    probability, rolls = probability_of_target(num_rolls, target_number)\n",
    "    print(f\"Rolled {num_rolls} times. Rolls: {rolls}\")\n",
    "    print(f\"Probability of rolling a {target_number}: {probability}\")\n",
    "else:\n",
    "    print(\"Please enter a valid number between 1 and 6.\")"
   ]
  }
 ],
 "metadata": {
  "kernelspec": {
   "display_name": "venv",
   "language": "python",
   "name": "python3"
  },
  "language_info": {
   "codemirror_mode": {
    "name": "ipython",
    "version": 3
   },
   "file_extension": ".py",
   "mimetype": "text/x-python",
   "name": "python",
   "nbconvert_exporter": "python",
   "pygments_lexer": "ipython3",
   "version": "3.12.7"
  }
 },
 "nbformat": 4,
 "nbformat_minor": 2
}
