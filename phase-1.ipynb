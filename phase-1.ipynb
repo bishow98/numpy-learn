{
 "cells": [
  {
   "cell_type": "code",
   "execution_count": 2,
   "metadata": {},
   "outputs": [],
   "source": [
    "import numpy as np "
   ]
  },
  {
   "cell_type": "markdown",
   "metadata": {},
   "source": [
    "### creating array from list "
   ]
  },
  {
   "cell_type": "code",
   "execution_count": 8,
   "metadata": {},
   "outputs": [
    {
     "name": "stdout",
     "output_type": "stream",
     "text": [
      "1D array:  [1 2 3]\n",
      "shape of 1D array:  (3,)\n",
      "2D array:  [[1 2 3]\n",
      " [4 5 6]]\n",
      "shape of 2D array:  (2, 3)\n"
     ]
    }
   ],
   "source": [
    "array1D = np.array([1,2,3])\n",
    "print(\"1D array: \", array1D)\n",
    "print(\"shape of 1D array: \",array1D.shape)\n",
    "array2D = np.array([[1,2,3],[4,5,6]])\n",
    "print(\"2D array: \",array2D)\n",
    "print(\"shape of 2D array: \",array2D.shape)"
   ]
  },
  {
   "cell_type": "markdown",
   "metadata": {},
   "source": [
    "### list vs numpy array"
   ]
  },
  {
   "cell_type": "code",
   "execution_count": 13,
   "metadata": {},
   "outputs": [
    {
     "name": "stdout",
     "output_type": "stream",
     "text": [
      "Python list nultiplication:  [1, 2, 3, 4, 1, 2, 3, 4]\n",
      "Numpy array multiplication:  [2 4 6 8]\n",
      "List operation time:  0.08420634269714355\n",
      "Numpy operation time:  0.0039899349212646484\n"
     ]
    }
   ],
   "source": [
    "py_list = [1,2,3,4]\n",
    "print(\"Python list nultiplication: \", py_list * 2)\n",
    "\n",
    "np_array = np.array([1,2,3,4]) # element wise multiplication hunxa yesma chai \n",
    "print(\"Numpy array multiplication: \", np_array * 2)\n",
    "\n",
    "import time \n",
    "start = time.time()\n",
    "py_list = [i*2 for i in range(1000000)]\n",
    "print(\"List operation time: \",time.time()- start)\n",
    "\n",
    "start = time.time()\n",
    "np_array = np.arange(1000000) *2\n",
    "print(\"Numpy operation time: \",time.time()- start)\n"
   ]
  },
  {
   "cell_type": "markdown",
   "metadata": {},
   "source": [
    "### Array fundamental"
   ]
  },
  {
   "cell_type": "code",
   "execution_count": null,
   "metadata": {},
   "outputs": [
    {
     "name": "stdout",
     "output_type": "stream",
     "text": [
      "[1 2 3 4 5]\n",
      "1\n",
      "[9 2 3 4 5]\n",
      "[9 2 3]\n",
      "[ 9 45  3  4  5]\n"
     ]
    }
   ],
   "source": [
    "a = np.array([1,2,3,4,5])\n",
    "print(a)\n",
    "print(a[0]) # indexing tesari nai hunxa \n",
    "a[0] = 9 #numpy array is mutable \n",
    "print(a)\n",
    "b = a[:3] #slice notation can be used for indexing ra yeslai view pani vaninxa\n",
    "print(b)\n",
    "b[1]= 45 # the original array can be mutatetd using the view \n",
    "print(a)"
   ]
  },
  {
   "cell_type": "markdown",
   "metadata": {},
   "source": [
    "### creating array from scratch "
   ]
  },
  {
   "cell_type": "code",
   "execution_count": 29,
   "metadata": {},
   "outputs": [
    {
     "name": "stdout",
     "output_type": "stream",
     "text": [
      "Zeros array: \n",
      " [[0. 0. 0. 0.]\n",
      " [0. 0. 0. 0.]\n",
      " [0. 0. 0. 0.]]\n",
      "\n",
      "Ones array: \n",
      " [[1. 1. 1.]\n",
      " [1. 1. 1.]]\n",
      "\n",
      "Full array: \n",
      " [[7 7]\n",
      " [7 7]]\n",
      "\n",
      " random fill : \n",
      " [[0.58187235 0.60629996 0.71887137]\n",
      " [0.68706428 0.20148768 0.57327302]]\n",
      "\n",
      " Sequence array: \n",
      " [0 2 4 6 8]\n"
     ]
    }
   ],
   "source": [
    "zeros = np.zeros((3,4)) # this will create a 0's array\n",
    "print(\"Zeros array: \\n\", zeros)\n",
    "\n",
    "ones = np.ones((2,3)) # this will create a ones array \n",
    "print(\"\\nOnes array: \\n\", ones)\n",
    "\n",
    "full = np.full((2,2),7) # Return a new array of given shape and type filled with fill_value\n",
    "print(\"\\nFull array: \\n\", full)\n",
    "\n",
    "random = np.random.random((2,3))\n",
    "# Return a new array of given shape and type filled with random samples from a uniform distribution over \n",
    "print(\"\\n random fill : \\n\",random)\n",
    "\n",
    "sequence = np.arange(0, 10, 2)\n",
    "print(\"\\n Sequence array: \\n\",sequence)"
   ]
  },
  {
   "cell_type": "markdown",
   "metadata": {},
   "source": [
    "### vector, Matrix and Tensor"
   ]
  },
  {
   "cell_type": "code",
   "execution_count": null,
   "metadata": {},
   "outputs": [
    {
     "name": "stdout",
     "output_type": "stream",
     "text": [
      "Vector: \n",
      " [1 2 3 4]\n",
      "Matrix: \n",
      " [[1 2 3 4]\n",
      " [6 7 8 9]]\n",
      "Tensor: \n",
      " [[[1 2]\n",
      "  [3 4]]\n",
      "\n",
      " [[6 7]\n",
      "  [9 8]]]\n"
     ]
    }
   ],
   "source": [
    "vector = np.array([1,2,3,4]) # 1D = vector\n",
    "print(\"Vector: \\n\", vector)\n",
    "\n",
    "matrix = np.array([[1,2,3,4],[6,7,8,9]]) # 2D = matrix\n",
    "print(\"Matrix: \\n\", matrix)\n",
    "\n",
    "tensor = np.array([[[1,2],[3,4]],  #n-d = tensor \n",
    "                    [[6,7],[9,8]]])\n",
    "print(\"Tensor: \\n\",tensor)"
   ]
  },
  {
   "cell_type": "markdown",
   "metadata": {},
   "source": [
    "### Array Properties"
   ]
  },
  {
   "cell_type": "code",
   "execution_count": 39,
   "metadata": {},
   "outputs": [
    {
     "name": "stdout",
     "output_type": "stream",
     "text": [
      "Shape:  (2, 3)\n",
      "Dimension:  2\n",
      "Size:  6\n",
      "DType:  int64\n"
     ]
    }
   ],
   "source": [
    "arr = np.array([[1,2,3],   #similar datatypes lai chai \n",
    "                [5,6,7]])  \n",
    "print(\"Shape: \",arr.shape) # shape of matrix like rows column\n",
    "print(\"Dimension: \",arr.ndim) # give the dimension of matrix\n",
    "print(\"Size: \",arr.size) # gives the total element in array\n",
    "print(\"DType: \",arr.dtype) # gives the datatype of an array "
   ]
  },
  {
   "cell_type": "markdown",
   "metadata": {},
   "source": [
    "### Array Reshaping"
   ]
  },
  {
   "cell_type": "code",
   "execution_count": 45,
   "metadata": {},
   "outputs": [
    {
     "name": "stdout",
     "output_type": "stream",
     "text": [
      "Original Array :  [ 0  1  2  3  4  5  6  7  8  9 10 11]\n",
      "\n",
      " Reshaped Array :  [[ 0  1  2  3]\n",
      " [ 4  5  6  7]\n",
      " [ 8  9 10 11]]\n",
      "\n",
      " Flatterned array.  [ 0  1  2  3  4  5  6  7  8  9 10 11]\n",
      "\n",
      " Raveled array :  [ 0  1  2  3  4  5  6  7  8  9 10 11]\n",
      "\n",
      " Transpose array :  [[ 0  4  8]\n",
      " [ 1  5  9]\n",
      " [ 2  6 10]\n",
      " [ 3  7 11]]\n"
     ]
    }
   ],
   "source": [
    "arr = np.arange(12)\n",
    "print(\"Original Array : \",arr)\n",
    "\n",
    "# return the copy with reshape\n",
    "reshape = arr.reshape((3,4)) #can reshape in out own way but it should be valid\n",
    "print(\"\\n Reshaped Array : \",reshape)\n",
    "\n",
    "flattened = reshape.flatten()\n",
    "print(\"\\n Flatterned array. \",flattened)\n",
    "\n",
    "# ravel (returns the view, insted of copy) original array ko view lai matra return gariraxa \n",
    "raveled = reshape.ravel()\n",
    "print(\"\\n Raveled array : \",raveled)\n",
    "\n",
    "# Transpose matrix \n",
    "transpose = reshape.T\n",
    "print(\"\\n Transpose array : \",transpose)\n"
   ]
  }
 ],
 "metadata": {
  "kernelspec": {
   "display_name": "venv",
   "language": "python",
   "name": "python3"
  },
  "language_info": {
   "codemirror_mode": {
    "name": "ipython",
    "version": 3
   },
   "file_extension": ".py",
   "mimetype": "text/x-python",
   "name": "python",
   "nbconvert_exporter": "python",
   "pygments_lexer": "ipython3",
   "version": "3.12.7"
  }
 },
 "nbformat": 4,
 "nbformat_minor": 2
}
