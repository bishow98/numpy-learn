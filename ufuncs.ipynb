{
 "cells": [
  {
   "cell_type": "markdown",
   "metadata": {},
   "source": [
    "## Numpy ufunc "
   ]
  },
  {
   "cell_type": "code",
   "execution_count": 1,
   "metadata": {},
   "outputs": [
    {
     "name": "stdout",
     "output_type": "stream",
     "text": [
      "[6, 8, 10, 12]\n",
      "[ 6  8 10 12]\n"
     ]
    }
   ],
   "source": [
    "import numpy as np\n",
    "\n",
    "# wihout the numpy ufunc \n",
    "x = [1,2,3,4]\n",
    "y = [5,6,7,8]\n",
    "z = []\n",
    "\n",
    "for i,j in zip(x,y):\n",
    "    z.append(i+j)\n",
    "print(z)\n",
    "\n",
    "# now using the numpy ufunc \n",
    "sum = np.add(x,y)\n",
    "print(sum)"
   ]
  },
  {
   "cell_type": "markdown",
   "metadata": {},
   "source": [
    "#### Creating own ufunc "
   ]
  },
  {
   "cell_type": "code",
   "execution_count": 12,
   "metadata": {},
   "outputs": [
    {
     "name": "stdout",
     "output_type": "stream",
     "text": [
      "[6 8 10 12]\n",
      "<class 'numpy.ufunc'>\n",
      "<class 'numpy._ArrayFunctionDispatcher'>\n",
      "<class 'numpy._ArrayFunctionDispatcher'>\n"
     ]
    }
   ],
   "source": [
    "def myadd(x,y):\n",
    "    return x+y\n",
    "\n",
    "myaddvalue = np.frompyfunc(myadd,2,1)\n",
    "print(myaddvalue([1,2,3,4],[5,6,7,8]))\n",
    "\n",
    "print(type(myaddvalue))\n",
    "print(type(np.sum))\n",
    "print(type(np.concatenate))\n"
   ]
  },
  {
   "cell_type": "markdown",
   "metadata": {},
   "source": [
    "#### ufunc simple artithmetic"
   ]
  },
  {
   "cell_type": "code",
   "execution_count": 13,
   "metadata": {},
   "outputs": [
    {
     "name": "stdout",
     "output_type": "stream",
     "text": [
      "[30 32 34 36]\n",
      "[-10 -10 -10 -10]\n",
      "[200 231 264 299]\n",
      "[2.         1.90909091 1.83333333 1.76923077]\n",
      "[ 7766279631452241920  3105570700629903195  5729018530666381312\n",
      " -4649523274362944347]\n",
      "[ 0 10 10 10]\n",
      "[10 11 12 13]\n",
      "(array([2, 1, 1, 1]), array([ 0, 10, 10, 10]))\n",
      "[ 1  4  7  3 11]\n"
     ]
    }
   ],
   "source": [
    "arr1 = np.array([10,11,12,13])\n",
    "arr2 = np.array([20,21,22,23])\n",
    "\n",
    "newarr = np.add(arr1,arr2)\n",
    "print(newarr)\n",
    "\n",
    "subtraction = np.subtract(arr1,arr2)\n",
    "print(subtraction)\n",
    "\n",
    "multiplication = np.multiply(arr1,arr2)\n",
    "print(multiplication)\n",
    "\n",
    "division = np.divide(arr2,arr1)\n",
    "print(division)\n",
    "\n",
    "power = np.power(arr1,arr2)\n",
    "print(power)\n",
    "\n",
    "mod = np.mod(arr2,arr1)\n",
    "print(mod)\n",
    "\n",
    "remainder = np.remainder(arr1,arr2)\n",
    "print(remainder)\n",
    "\n",
    "# quotient and mod \n",
    "quotient = np.divmod(arr2,arr1)\n",
    "print(quotient) # this will return the quotient and mod \n",
    "\n",
    "\n",
    "# for absolute values \n",
    "arr3 = np.array([-1,4,-7,3,11])\n",
    "abs_value = np.absolute(arr3)\n",
    "\n",
    "print(abs_value)"
   ]
  },
  {
   "cell_type": "markdown",
   "metadata": {},
   "source": [
    "### Rounding Decimals "
   ]
  },
  {
   "cell_type": "code",
   "execution_count": 19,
   "metadata": {},
   "outputs": [
    {
     "name": "stdout",
     "output_type": "stream",
     "text": [
      "[-4.  4.]\n",
      "[-3.  3.]\n",
      "3.17\n",
      "[ 3. -4.]\n",
      "[ 4. -3.]\n"
     ]
    }
   ],
   "source": [
    "# Truncation means rounding the value \n",
    "import numpy as np \n",
    "array = np.trunc([-4.32232, 4.22327])\n",
    "print(array)\n",
    "\n",
    "# using the fix method \n",
    "array1 = np.fix([-3.1999, 3.6667])\n",
    "print(array1)\n",
    "\n",
    "# rounding to the nearest integer\n",
    "array3 = np.around(3.1666, 2)\n",
    "print(array3)\n",
    "\n",
    "# floor\n",
    "array4 = np.floor([3.6667, -3.1666])\n",
    "print(array4)\n",
    "\n",
    "# ceil\n",
    "array5 = np.ceil([3.6667, -3.1666])\n",
    "print(array5)"
   ]
  },
  {
   "cell_type": "markdown",
   "metadata": {},
   "source": [
    "### Numpy LOGS"
   ]
  },
  {
   "cell_type": "code",
   "execution_count": 20,
   "metadata": {},
   "outputs": [
    {
     "name": "stdout",
     "output_type": "stream",
     "text": [
      "[0.         1.         1.5849625  2.         2.32192809 2.5849625\n",
      " 2.80735492 3.         3.169925  ]\n"
     ]
    }
   ],
   "source": [
    "# NumPy provides functions to perform log at the base 2, e and 10.\n",
    "\n",
    "# We will also explore how we can take log for any base by creating a custom ufunc.\n",
    "\n",
    "# All of the log functions will place -inf or inf in the elements if the log can not be computed.\n",
    "\n",
    "# Log at Base 2\n",
    "\n",
    "import numpy as np\n",
    "\n",
    "array6 = np.arange(1,10)\n",
    "print(np.log2(array6))\n"
   ]
  },
  {
   "cell_type": "markdown",
   "metadata": {},
   "source": [
    "#### Log at Base 10"
   ]
  },
  {
   "cell_type": "code",
   "execution_count": 22,
   "metadata": {},
   "outputs": [
    {
     "name": "stdout",
     "output_type": "stream",
     "text": [
      "[0.         0.30103    0.47712125 0.60205999 0.69897    0.77815125\n",
      " 0.84509804 0.90308999 0.95424251]\n"
     ]
    }
   ],
   "source": [
    "arr7 = np.arange(1,10)\n",
    "print(np.log10(arr7))"
   ]
  },
  {
   "cell_type": "code",
   "execution_count": 23,
   "metadata": {},
   "outputs": [
    {
     "name": "stdout",
     "output_type": "stream",
     "text": [
      "[0.         0.69314718 1.09861229 1.38629436 1.60943791 1.79175947\n",
      " 1.94591015 2.07944154 2.19722458]\n"
     ]
    }
   ],
   "source": [
    "# Natural Log, or Log at Base e\n",
    "arr8 = np.arange(1,10)\n",
    "print(np.log(arr8))"
   ]
  },
  {
   "cell_type": "markdown",
   "metadata": {},
   "source": [
    "### Log at any base "
   ]
  },
  {
   "cell_type": "code",
   "execution_count": 24,
   "metadata": {},
   "outputs": [
    {
     "name": "stdout",
     "output_type": "stream",
     "text": [
      "1.7005483074552052\n"
     ]
    }
   ],
   "source": [
    "from math import log\n",
    "nplog = np.frompyfunc(log,2,1)\n",
    "print(nplog(100,15))"
   ]
  },
  {
   "cell_type": "markdown",
   "metadata": {},
   "source": [
    "### Numpy Sumations"
   ]
  },
  {
   "cell_type": "code",
   "execution_count": null,
   "metadata": {},
   "outputs": [
    {
     "name": "stdout",
     "output_type": "stream",
     "text": [
      "[5 7 9]\n",
      "21\n",
      "[ 6 15]\n",
      "[5 7 9]\n",
      "[[4 5 6]\n",
      " [5 7 9]]\n"
     ]
    }
   ],
   "source": [
    "arr_1 = np.array([1,2,3])\n",
    "arr_2 = np.array([4,5,6])\n",
    "\n",
    "newadd = np.add(arr_1, arr_2)\n",
    "print(newadd)\n",
    "\n",
    "newarr = np.sum([arr_1,arr_2]) ## this will give the total sum of the two array\n",
    "print(newarr)\n",
    "\n",
    "# summation over an axis \n",
    "rowaddition = np.sum([arr_1,arr_2], axis=1) # this will give the total by suming the row of an both array\n",
    "print(rowaddition)\n",
    "\n",
    "# summation over multiple axis\n",
    "columnaddition = np.sum([arr_1,arr_2], axis=0) # This will give the total by suming the column of an both array\n",
    "print(columnaddition)\n",
    "\n",
    "# cummulative sum first term same second + first term for second term and so on\n",
    "cumsum = np.cumsum([arr_2,arr_1], axis=0)\n",
    "print(cumsum)"
   ]
  },
  {
   "cell_type": "markdown",
   "metadata": {},
   "source": [
    "### Numpy Products"
   ]
  },
  {
   "cell_type": "code",
   "execution_count": null,
   "metadata": {},
   "outputs": [
    {
     "name": "stdout",
     "output_type": "stream",
     "text": [
      "24\n",
      "40320\n",
      "[  24 1680]\n",
      "[   5   30  210 1680]\n"
     ]
    }
   ],
   "source": [
    "arr_product = np.array([1,2,3,4])\n",
    "\n",
    "product = np.prod(arr_product)\n",
    "\n",
    "print(product)\n",
    "\n",
    "arr_product1 = np.array([1,2,3,4])\n",
    "arr_product2 = np.array([5,6,7,8])\n",
    "\n",
    "newProduct = np.prod([arr_product1,arr_product2])\n",
    "\n",
    "print(newProduct)\n",
    "\n",
    "# product over an axis\n",
    "\n",
    "rowProduct = np.prod([arr_product1, arr_product2], axis=1)\n",
    "print(rowProduct)\n",
    "\n",
    "# cummulative product (it is like the factorial of the given numpy array)\n",
    "arr_cumulative_product = np.cumprod(arr_product2)\n",
    "print(arr_cumulative_product)\n"
   ]
  },
  {
   "cell_type": "markdown",
   "metadata": {},
   "source": [
    "### Differences "
   ]
  },
  {
   "cell_type": "code",
   "execution_count": 47,
   "metadata": {},
   "outputs": [
    {
     "name": "stdout",
     "output_type": "stream",
     "text": [
      "[ 5 -4  7]\n",
      "[-9 11]\n"
     ]
    }
   ],
   "source": [
    "arr_diff = np.array([1,6,2,9])\n",
    "\n",
    "new_diff = np.diff(arr_diff)\n",
    "\n",
    "print(new_diff)\n",
    "\n",
    "# discrete difference of the array twice using the n=2\n",
    "new_diff_with_n = np.diff(arr_diff, n=2)\n",
    "\n",
    "print(new_diff_with_n)"
   ]
  },
  {
   "cell_type": "markdown",
   "metadata": {},
   "source": [
    "### NumPy LCM Lowest Common Element"
   ]
  },
  {
   "cell_type": "code",
   "execution_count": 55,
   "metadata": {},
   "outputs": [
    {
     "name": "stdout",
     "output_type": "stream",
     "text": [
      "12\n",
      "18\n",
      "2520\n"
     ]
    }
   ],
   "source": [
    "num1 = 4\n",
    "num2 = 6\n",
    "\n",
    "lcm = np.lcm(num1, num2)\n",
    "print(lcm)\n",
    "\n",
    "# numpy lcm with matrix 2d arrays is \n",
    "lcm_arr= np.array([3,6,9])\n",
    "lcm_matrix = np.lcm.reduce(lcm_arr)\n",
    "print(lcm_matrix)\n",
    "\n",
    "# another example is \n",
    "\n",
    "ar_lcm = np.arange(1,10)\n",
    "lcm_array = np.lcm.reduce(ar_lcm)\n",
    "print(lcm_array)"
   ]
  },
  {
   "cell_type": "markdown",
   "metadata": {},
   "source": [
    "### NumPy GCD Greates Common Divisor"
   ]
  },
  {
   "cell_type": "code",
   "execution_count": 61,
   "metadata": {},
   "outputs": [
    {
     "name": "stdout",
     "output_type": "stream",
     "text": [
      "3\n",
      "4\n"
     ]
    }
   ],
   "source": [
    "num3  = 6\n",
    "num4 = 9\n",
    "\n",
    "gcd = np.gcd(num3,num4)\n",
    "print(gcd)\n",
    "\n",
    "# numpy gcd with vector 1d arrays is\n",
    "gcd_array = np.array([20,8,32,36,16])\n",
    "gcd_of_whole_array = np.gcd.reduce(gcd_array)# here reduce is used to calculate the each element inside the vector 1d array\n",
    "\n",
    "print(gcd_of_whole_array)"
   ]
  },
  {
   "cell_type": "markdown",
   "metadata": {},
   "source": [
    "### NumPy Trigonometric Functions "
   ]
  },
  {
   "cell_type": "code",
   "execution_count": 82,
   "metadata": {},
   "outputs": [
    {
     "name": "stdout",
     "output_type": "stream",
     "text": [
      "0.87\n",
      "[1.         0.8660254  0.70710678 0.58778525]\n",
      "0.5\n",
      "[1.57079633 3.14159265 4.71238898 6.28318531]\n",
      "[ 90. 180. 270. 360.]\n",
      "1.5707963267948966\n",
      "[ 1.57079633 -1.57079633  0.10016742]\n",
      "5.0\n"
     ]
    }
   ],
   "source": [
    "# trigonometric function\n",
    "sin = np.sin(np.pi/3)\n",
    "print(np.round(sin,2)) \n",
    "\n",
    "# finding the sine values in array \n",
    "\n",
    "sin_values = np.array([np.pi/2, np.pi/3, np.pi/4, np.pi/5])\n",
    "sin_array = np.sin(sin_values)\n",
    "print(sin_array)\n",
    "\n",
    "\n",
    "# cosine function\n",
    "cos = np.cos(np.pi/3)\n",
    "print(np.round(cos,2))\n",
    "\n",
    "# Convert Degrees Into Radians \n",
    "angle_degrees = np.array([90,180,270,360])\n",
    "convert_deg2rad = np.deg2rad(angle_degrees)\n",
    "print(convert_deg2rad)\n",
    "\n",
    "# Convert Radians to Degress \n",
    "angle_radians = np.array([np.pi/2,np.pi, 1.5*np.pi, 2*np.pi])\n",
    "convert_rad2deg = np.rad2deg(angle_radians)\n",
    "print(convert_rad2deg)\n",
    "\n",
    "# Finding Angles arcsin(), arccos(), and arctan()\n",
    "sin_angle = np.arcsin(1.0)\n",
    "print(sin_angle)\n",
    "\n",
    "# Angles of Each Value in Arrays \n",
    "values = np.array([1,-1,0.1])\n",
    "angles = np.arcsin(values)\n",
    "print(angles)\n",
    "\n",
    "# Hypotenues : Finding hypotenues using pythagoras theorem in NumPy hypot()\n",
    "base = 3\n",
    "perp = 4\n",
    "\n",
    "hypotenuse = np.hypot(base, perp)\n",
    "print(hypotenuse)\n"
   ]
  },
  {
   "cell_type": "markdown",
   "metadata": {},
   "source": [
    "### Hyperbolic Functions "
   ]
  },
  {
   "cell_type": "code",
   "execution_count": null,
   "metadata": {},
   "outputs": [
    {
     "name": "stdout",
     "output_type": "stream",
     "text": [
      "1.2493670505239751\n",
      "[2.50917848 1.60028686 1.32460909 1.20397209 1.14023832]\n"
     ]
    }
   ],
   "source": [
    "import numpy as np\n",
    "\n",
    "hyperbolic_sin = np.sinh(np.pi/3)\n",
    "print(hyperbolic_sin) \n",
    "\n",
    "\n",
    "# Hyperbolic functions grow exponentially for larger values of x, while trigonometric functions oscillate between -1 and 1.\n",
    "arr = np.array([np.pi/2, np.pi/3, np.pi/4, np.pi/5, np.pi/6])\n",
    "values_cosh = np.cosh(arr)\n",
    "print(values_cosh)"
   ]
  },
  {
   "cell_type": "markdown",
   "metadata": {},
   "source": [
    "#### Finding Angles "
   ]
  },
  {
   "cell_type": "code",
   "execution_count": 4,
   "metadata": {},
   "outputs": [
    {
     "name": "stdout",
     "output_type": "stream",
     "text": [
      "0.881373587019543\n"
     ]
    }
   ],
   "source": [
    "arcsin = np.arcsinh(1.0)\n",
    "print(arcsin)"
   ]
  },
  {
   "cell_type": "markdown",
   "metadata": {},
   "source": [
    "### Angles of Each Value in Arrays "
   ]
  },
  {
   "cell_type": "code",
   "execution_count": 5,
   "metadata": {},
   "outputs": [
    {
     "name": "stdout",
     "output_type": "stream",
     "text": [
      "[0.10033535 0.20273255 0.54930614]\n"
     ]
    }
   ],
   "source": [
    "values_list = np.array([0.1,0.2,0.5])\n",
    "arctanh = np.arctanh(values_list)\n",
    "print(arctanh)"
   ]
  },
  {
   "cell_type": "markdown",
   "metadata": {},
   "source": [
    "### What is a Set? \n",
    "#### A set is a collection of unique objects, known as elements or members, that can be anything "
   ]
  },
  {
   "cell_type": "code",
   "execution_count": null,
   "metadata": {},
   "outputs": [
    {
     "name": "stdout",
     "output_type": "stream",
     "text": [
      "[0 1 2 3 4 5 6 7 8 9]\n",
      "[1 2 3 4 5 6]\n",
      "[3 4]\n",
      "[1 2]\n",
      "[1 2 5 6]\n"
     ]
    }
   ],
   "source": [
    "import numpy as np \n",
    "# Create Sets in NumPy : unique() method to find unique elements\n",
    "set1 = np.array([1,1,3,4,5,3,6,7,2,7,9,0,8,1])\n",
    "unique_sets = np.unique(set1)\n",
    "print(unique_sets) \n",
    "\n",
    "# Finding the union of two sets \n",
    "set2 = np.array([1,2,3,4])\n",
    "set3 = np.array([3,4,5,6])\n",
    "union_sets = np.union1d(set2, set3)\n",
    "print(union_sets)\n",
    "\n",
    "# Finding the intersection of two sets\n",
    "set4 = np.array([1,2,3,4])\n",
    "set5 = np.array([3,4,5,6])\n",
    "intersection_sets = np.intersect1d(set4,set5, assume_unique=True) # assume_unique=True garyo vaney chai computation chai fast hunxa ra sets sanga deal garda always True garnu parxa \n",
    "print(intersection_sets)\n",
    "\n",
    "# Finding Difference between two sets \n",
    "set6 = np.array([1,2,3,4])\n",
    "set7 = np.array([3,4,5,6])\n",
    "#set6 ra set7 match garxa ra set6 ma matra vako lai chai yesle dinxa \n",
    "difference_sets = np.setdiff1d(set6,set7, assume_unique=True)\n",
    "print(difference_sets)\n",
    "\n",
    "#Finding symmetric difference between two sets \n",
    "set8 = np.array([1,2,3,4])\n",
    "set9 = np.array([3,4,5,6])\n",
    "# Duita set bata unique value chai kun ho teslai chai herxa yesle chai \n",
    "symmetric_difference = np.setxor1d(set8, set9,assume_unique=True)\n",
    "print(symmetric_difference)\n",
    "\n"
   ]
  }
 ],
 "metadata": {
  "kernelspec": {
   "display_name": "venv",
   "language": "python",
   "name": "python3"
  },
  "language_info": {
   "codemirror_mode": {
    "name": "ipython",
    "version": 3
   },
   "file_extension": ".py",
   "mimetype": "text/x-python",
   "name": "python",
   "nbconvert_exporter": "python",
   "pygments_lexer": "ipython3",
   "version": "3.12.7"
  }
 },
 "nbformat": 4,
 "nbformat_minor": 2
}
